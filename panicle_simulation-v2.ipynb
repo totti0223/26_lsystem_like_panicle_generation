{
 "cells": [
  {
   "cell_type": "markdown",
   "metadata": {},
   "source": [
    "packaged everything as a function"
   ]
  },
  {
   "cell_type": "code",
   "execution_count": 2,
   "metadata": {},
   "outputs": [],
   "source": [
    "#野下さんのコードをもとに改変した穂構造記述システム\n",
    "%matplotlib inline\n",
    "import copy\n",
    "import numpy as np\n",
    "import matplotlib.pyplot as plt\n",
    "import matplotlib.cm as cm\n",
    "from matplotlib.lines import Line2D\n",
    "from matplotlib.patches import Ellipse, Circle"
   ]
  },
  {
   "cell_type": "markdown",
   "metadata": {},
   "source": [
    "# basics"
   ]
  },
  {
   "cell_type": "markdown",
   "metadata": {},
   "source": [
    "## Restrictions"
   ]
  },
  {
   "cell_type": "code",
   "execution_count": 3,
   "metadata": {
    "code_folding": []
   },
   "outputs": [],
   "source": [
    "def thresh(mean,stdev, minimum=None,maximum=None):\n",
    "    import numpy as np\n",
    "    '''\n",
    "    returns a threshold value based on mean, stdev, etc.\n",
    "    '''\n",
    "    val = np.random.normal(mean,stdev,size=1000)\n",
    "    val = np.random.choice(val)\n",
    "    if minimum:\n",
    "        val = np.maximum(val,minimum)\n",
    "    if maximum:\n",
    "        val = np.minimum(val,maximum)\n",
    "    return val"
   ]
  },
  {
   "cell_type": "code",
   "execution_count": 4,
   "metadata": {
    "code_folding": []
   },
   "outputs": [
    {
     "name": "stdout",
     "output_type": "stream",
     "text": [
      "{'EL': 35.52, 'sbl': 10.892000000000001, 'RL': 121, 'pbl': 79.50204638853918, 'pbl_terminal': 59.374679058794634}\n",
      "{'EL': 35.52, 'sbl': 12.463772549117854, 'RL': 121, 'pbl': 54.46, 'pbl_terminal': 54.58722066122404}\n",
      "{'EL': 35.52, 'sbl': 10.892000000000001, 'RL': 121, 'pbl': 65.34067620621578, 'pbl_terminal': 54.98648842743004}\n",
      "{'EL': 35.52, 'sbl': 14.800452538148111, 'RL': 121, 'pbl': 84.36, 'pbl_terminal': 45.2003719050738}\n",
      "{'EL': 35.52, 'sbl': 13.840911643087532, 'RL': 121, 'pbl': 79.09863484855549, 'pbl_terminal': 66.76999947377037}\n"
     ]
    }
   ],
   "source": [
    "# restriction rules\n",
    "\n",
    "#High-Resolution Inflorescence Phenotyping Using a Novel Image-Analysis Pipeline, PANoramaの数値を参考にしている。\n",
    "\n",
    "# matplot上の1単位を1 mmとする -> 35.52 mmは35.52単位\n",
    "# below have only have average in the paper. else generate from random normal\n",
    "EL = 35.52  # length of exsertion: point from flag leaf ligule attachment point to panicle notch. \n",
    "RL = 121 # length of main axis: point from panicle notch to inflorescence abortion point\n",
    "\n",
    "def PBL(mean=70.11,stdev=10.17,minimum=54.46,maximum=84.36):\n",
    "    #length of primary branches\n",
    "    return thresh(mean,stdev,minimum=minimum,maximum=maximum)\n",
    "def SBL(ratio=0.1):\n",
    "    #length of secondary branches\n",
    "    return PBL()*(0.2)\n",
    "def PDL():\n",
    "    #pedicel length\n",
    "    return 5\n",
    "    \n",
    "def NL(mean=23.04,stdev=9.8, minimum=10.45,maximum=34.4):\n",
    "    #distance between node\n",
    "    return thresh(mean,stdev,minimum=minimum,maximum=maximum)\n",
    "\n",
    "def BpN(mean=1.236,stdev=0.384, minimum=1,maximum=3):\n",
    "    # BpN: number of panicle that generates per node, a normal distribution based on mean number of branches per node and stdev number of branches per node\n",
    "    return np.maximum(1,int(np.round(thresh(mean,stdev,minimum=minimum,maximum=maximum))))\n",
    "def get_dict():\n",
    "    dicts = {'RL':RL,\"EL\":EL,'pbl':PBL(),'pbl_terminal':PBL()*(4/5),'sbl':SBL()}\n",
    "    return dicts\n",
    "\n",
    "#呼び出すたびに閾値が変わる。\n",
    "for i in range(5):\n",
    "    print(get_dict())"
   ]
  },
  {
   "cell_type": "markdown",
   "metadata": {},
   "source": [
    "## l-system related functions"
   ]
  },
  {
   "cell_type": "code",
   "execution_count": 5,
   "metadata": {
    "code_folding": []
   },
   "outputs": [],
   "source": [
    "def panicle_rule(state):\n",
    "    #EL(length of exsertion)をまず生成する\n",
    "    if state == 0:\n",
    "        new_state = [0]\n",
    "    #established node\n",
    "    if state == 0.1:\n",
    "        new_state = [0, 0.1]\n",
    "    # 1 below the ear edge\n",
    "    if state == 1.1:\n",
    "        new_state = [1, 1.1,]\n",
    "    if state == 1:\n",
    "        new_state = [1]\n",
    "    \n",
    "    # primary branch\n",
    "    if state == 2.1:\n",
    "        new_state = [2,2.1]\n",
    "    if state == 2:\n",
    "        new_state = [2]\n",
    "    \n",
    "    # secondary branch\n",
    "    if state == 3.1:\n",
    "        new_state = [3,3.1]\n",
    "    if state ==3:\n",
    "        new_state = [3]\n",
    "        \n",
    "    #理想は角度調整できることだけど、できないからterminal primary branchだけ別にする\n",
    "    # terminal primary branch\n",
    "    if state == 4.1:\n",
    "        new_state = [4,4.1]\n",
    "    if state == 4:\n",
    "        new_state = [4] \n",
    "    \n",
    "    #pedicel\n",
    "    if state ==5:\n",
    "        new_state == [5]\n",
    "    if state == 5.1:\n",
    "        new_state = [5,5.1]\n",
    "    #seed\n",
    "    if state == 10:\n",
    "        new_state = [10]\n",
    "    return new_state\n",
    "\n",
    "def update_panicle(cells, **kwargs):\n",
    "    \"\"\"更新\n",
    "    \n",
    "    入力された状態のリストに基づき，次世代の状態のリストを返す．\n",
    "    \n",
    "    Args:\n",
    "        cells: ある時点でのセルの状態のリスト．\n",
    "    \n",
    "    Returns:\n",
    "        new_cells: 次世代のセルの状態のリスト．\n",
    "        \n",
    "    制約の導入：\n",
    "\n",
    "    \n",
    "    \"\"\"\n",
    "    \n",
    "    #argsの展開\n",
    "\n",
    "    ##restriction rules##############################\n",
    "    if 'sbl' in kwargs.keys():\n",
    "        if cells.count(3) > kwargs[\"sbl\"]:\n",
    "            if 3.1 in cells:\n",
    "                idx = cells.index(3.1)\n",
    "                cells[idx] = 3\n",
    "    \n",
    "    if 'pbl_terminal' in kwargs.keys():\n",
    "        #terminal branch\n",
    "        if cells.count(4) > kwargs[\"pbl_terminal\"]:\n",
    "            if 4.1 in cells:\n",
    "                idx = cells.index(4.1)\n",
    "                cells[idx] = 4\n",
    "    #primary branch\n",
    "    if 'pbl' in kwargs.keys():\n",
    "        if cells.count(2) > kwargs[\"pbl\"]:\n",
    "            if 2.1 in cells:\n",
    "                idx = cells.index(2.1)\n",
    "                cells[idx] = 2\n",
    "    if 'RL' in kwargs.keys():\n",
    "        if cells.count(1) > kwargs[\"RL\"]:\n",
    "            if 1.1 in cells:\n",
    "                idx = cells.index(1.1)\n",
    "                cells[idx] = 1\n",
    "    if 'EL' in kwargs.keys():\n",
    "        if cells.count(0) > kwargs[\"EL\"] :\n",
    "            if 0.1 in cells:\n",
    "                idx = cells.index(0.1)\n",
    "                cells[idx] = 1.1        \n",
    "    #############################################\n",
    "    \n",
    "    cells_tmp = []\n",
    "    for cell in cells:\n",
    "        cells_tmp.append(panicle_rule(cell))\n",
    "    new_cells = [cell for cell_tmp in cells_tmp for cell in cell_tmp]\n",
    "    \n",
    "    return new_cells"
   ]
  },
  {
   "cell_type": "code",
   "execution_count": 6,
   "metadata": {
    "code_folding": [],
    "format": "row"
   },
   "outputs": [],
   "source": [
    "# gen and interpret functions\n",
    "# customized\n",
    "# 線を生成するための関数\n",
    "\n",
    "\n",
    "def gen(idx, pos, theta, r=1, lwidth=2):\n",
    "    '''\n",
    "    # if edge is panicle\n",
    "    if idx ==2:\n",
    "        height = 2\n",
    "        width = 0.2\n",
    "        angle = 90\n",
    "        obj = Ellipse(xy=(pos[0] - height //2 , pos[1]), height=height, width=width,angle=angle,alpha=0.6,color=\"green\")\n",
    "        pos_new = pos\n",
    "        else:\n",
    "    '''\n",
    "\n",
    "    # if edge is line\n",
    "    pos_new = pos + r*np.array([np.cos(theta), np.sin(theta)])\n",
    "    x = np.array([pos[0], pos_new[0]])\n",
    "    y = np.array([pos[1], pos_new[1]])\n",
    "    #obj = Line2D(x, y, color=cm.rainbow(int(0.125*(idx-1)*255)))\n",
    "    #obj = Line2D(x, y, color=cm.BuGn_r(int(0.125*(idx-1)*255)))\n",
    "    #obj = Line2D(x, y, color=cm.tab20(int(0.125*(idx-1)*255)))\n",
    "    if idx == 0: color =\"black\"\n",
    "    elif idx == 1: color =\"brown\"\n",
    "    elif idx == 2 or idx == 4: color = \"blue\"\n",
    "    elif idx ==3: color = \"red\"\n",
    "    else: color = \"green\"\n",
    "    \n",
    "    if idx == 10:\n",
    "        #draw seed\n",
    "        obj = Circle(xy=(x[1],y[1]),radius=0.5,color=\"black\")\n",
    "    else:\n",
    "        obj = Line2D(x, y, color=color)\n",
    "    return (obj, pos_new)\n",
    "\n",
    "# ある時点のセルの状態のリストに基づき分岐パタンを描写するための関数\n",
    "\n",
    "\n",
    "def interpret(ax, cells, pos_in, theta_in, theta_shift_in, depth=0):\n",
    "    \"\"\"分岐パタンの描写\n",
    "\n",
    "    入力された状態のリストに基づき，分岐パタンを描写する．\n",
    "\n",
    "    Args:\n",
    "        ax: 描写するための`axes.Axes`オブジェクト\n",
    "        cells: セルの状態のリスト\n",
    "        pos_in: 描写の起点となるx,y座標\n",
    "        theta_in: 描写の向きを指定するx軸からの角度\n",
    "        theta_shift_in: 分岐角度\n",
    "\n",
    "    Returns:\n",
    "        ax_new: 分岐パタンを追加した`axes.Axes`オブジェクト\n",
    "\n",
    "    \"\"\"\n",
    "    pos = pos_in\n",
    "    theta = theta_in\n",
    "    ax_new = ax\n",
    "    theta_shift = theta_shift_in\n",
    "    for i,cell in enumerate(cells):\n",
    "        if type(cell) is list:\n",
    "            # 再帰的定義を利用している\n",
    "            depth += 1            \n",
    "            ax_new = interpret(ax, cell, pos, theta + theta_shift, theta_shift*0.5, depth=depth)\n",
    "            # 右左をスイッチする　\n",
    "            theta_shift = - theta_shift\n",
    "        else:\n",
    "            if cell ==4:\n",
    "                theta = np.pi/2\n",
    "            obj, pos = gen(cell, pos, theta, r=0.5, lwidth=8)\n",
    "            \n",
    "            if cell == 10:\n",
    "                ax_new.add_patch(obj)\n",
    "            else:\n",
    "                ax_new.add_line(obj)\n",
    "    return ax_new"
   ]
  },
  {
   "cell_type": "markdown",
   "metadata": {},
   "source": [
    "## generating functions"
   ]
  },
  {
   "cell_type": "code",
   "execution_count": 15,
   "metadata": {
    "code_folding": [
     0,
     14,
     69
    ]
   },
   "outputs": [],
   "source": [
    "def base_branch(cells):\n",
    "\n",
    "    # get random restrictions\n",
    "    pbl = PBL()\n",
    "\n",
    "    k = 1000\n",
    "    for n in range(k):\n",
    "        _cells = update_panicle(cells, **get_dict())\n",
    "        if cells == _cells:\n",
    "            break\n",
    "        else:\n",
    "            cells = _cells\n",
    "    return cells\n",
    "\n",
    "def primary_branch(cells):\n",
    "    k=1000\n",
    "    #get position to insert secondary branch\n",
    "    start = cells.index(1)\n",
    "    #print(cells.count(1))\n",
    "    #insert_indices = list(range(0,cells.count(1),int(NL())))\n",
    "    #insert_indices = [x+start for x in insert_indices]\n",
    "    #print(insert_indices)\n",
    "\n",
    "    #50も分岐はないだろうという仮定のもと\n",
    "    insert_indices = [0]\n",
    "    for i in range(50):\n",
    "        insert_indices.append(NL())\n",
    "    insert_indices = np.array(insert_indices)\n",
    "    #print(cells.count(1)//NL())\n",
    "    insert_indices = np.cumsum(insert_indices)\n",
    "    insert_indices = [int(x+start) for x in insert_indices if x<RL]\n",
    "\n",
    "    if insert_indices[-1]<len(cells):\n",
    "        insert_indices += [len(cells)]\n",
    "    memory = 0\n",
    "    for i,idx in enumerate(insert_indices):\n",
    "        #determine how many branches to generate\n",
    "        bpn = BpN()\n",
    "        #last node and first node will be allways single \n",
    "        primarybranches = []\n",
    "\n",
    "\n",
    "        if i == len(insert_indices) -1:\n",
    "            #terminal branch or first primary branchの場合は１branchのみ\n",
    "            bpn = 1\n",
    "        elif i == 0:\n",
    "            bpn = 1\n",
    "\n",
    "        for branch in range(bpn):\n",
    "            _dicts = get_dict()\n",
    "            if i == len(insert_indices) -1:\n",
    "                primarybranch = [4.1]\n",
    "            else:\n",
    "                primarybranch = [2.1]\n",
    "\n",
    "            for n in range(k):\n",
    "                _primarybranch = update_panicle(primarybranch,**_dicts)\n",
    "\n",
    "                #制約に全部ヒットしたものは同じ値が返されるため、更新されずループ。\n",
    "                if primarybranch == _primarybranch:\n",
    "                    break\n",
    "                else:\n",
    "                    primarybranch = _primarybranch\n",
    "            primarybranches.append(primarybranch)\n",
    "        for t, primarybranch in enumerate(primarybranches):\n",
    "            cells.insert(idx+t+memory,primarybranch)\n",
    "        memory += len(primarybranches)\n",
    "    return cells\n",
    "\n",
    "def secondary_branch(cells):\n",
    "    k=1000\n",
    "    for i, pb in enumerate(cells):\n",
    "        if type(pb) == list:\n",
    "            #cells[i]がprimary branchのlist\n",
    "\n",
    "            #secondary branchの挿入position)\n",
    "\n",
    "            insert_indices = []\n",
    "            for m in range(50):\n",
    "                insert_indices.append(NL())\n",
    "            insert_indices = np.array(insert_indices)\n",
    "            #print(cells.count(1)//NL())\n",
    "            insert_indices = np.cumsum(insert_indices)\n",
    "            insert_indices = [int(x) for x in insert_indices if x<len(pb)]\n",
    "\n",
    "            #最後にsecondaryはつけない\n",
    "            #if insert_indices[-1]<len(pb):\n",
    "            #    insert_indices += [len(pb)]\n",
    "            memory = 0\n",
    "            for t,idx in enumerate(insert_indices):\n",
    "                _dicts = get_dict()\n",
    "                secondarybranch = [3.1]\n",
    "                for n in range(k):\n",
    "                    _secondarybranch = update_panicle(secondarybranch,**_dicts)\n",
    "\n",
    "                    #制約に全部ヒットしたものは同じ値が返されるため、更新されずループ。\n",
    "                    if secondarybranch == _secondarybranch:\n",
    "                        break\n",
    "                    else:\n",
    "                        secondarybranch = _secondarybranch\n",
    "                cells[i].insert(idx+t,secondarybranch)\n",
    "    return cells\n",
    "\n",
    "def pedicel_branch(cells):\n",
    "    # add pedicel in primary branch and secondary branch, respectively\n",
    "    # pedicel length is fixed. not important in the current experiment\n",
    "    pedicel = [5]*PDL()+[10]\n",
    "\n",
    "    # pedicel 間の距離がわからないので、NL()の(1/2程度にしておく？)を流用する\n",
    "\n",
    "    # 深い方からpedicelをattachしていく\n",
    "    # secondary branchにpedicelをattach\n",
    "    for i, pb in enumerate(cells):\n",
    "        if type(pb) == list:\n",
    "            for j, sb in enumerate(pb):\n",
    "                if type(sb) == list:\n",
    "                    # cells[i][j] to access the secondary branch\n",
    "                    insert_indices = []\n",
    "                    for m in range(50):\n",
    "                        insert_indices.append(NL()/4)\n",
    "                    insert_indices = np.array(insert_indices)\n",
    "                    # print(cells.count(1)//NL())\n",
    "                    insert_indices = np.cumsum(insert_indices)\n",
    "                    insert_indices = [int(x)\n",
    "                                      for x in insert_indices if x < len(sb)]\n",
    "                    if insert_indices:\n",
    "                        if insert_indices[-1] < len(sb):\n",
    "                            insert_indices += [len(sb)]\n",
    "                    else:\n",
    "                        insert_indices += [len(sb)]\n",
    "\n",
    "                    for t, idx in enumerate(insert_indices):\n",
    "                        cells[i][j].insert(idx+t, pedicel)\n",
    "\n",
    "    # primary branchにpedicelをattach\n",
    "    for i, pb in enumerate(cells):\n",
    "        if type(pb) == list:\n",
    "            insert_indices = []\n",
    "            for m in range(50):\n",
    "                insert_indices.append(NL()/2)\n",
    "            insert_indices = np.array(insert_indices)\n",
    "            # print(cells.count(1)//NL())\n",
    "            insert_indices = np.cumsum(insert_indices)\n",
    "            insert_indices = [int(x) for x in insert_indices if x < len(pb)]\n",
    "            if insert_indices[-1] < len(pb):\n",
    "                insert_indices += [len(pb)]\n",
    "            for t, idx in enumerate(insert_indices):\n",
    "                cells[i].insert(idx+t, pedicel)\n",
    "    return cells\n",
    "    \n",
    "def generate_panicle():\n",
    "    cells = [0.1]\n",
    "    cells = base_branch(cells)\n",
    "    cells = primary_branch(cells)\n",
    "    cells = secondary_branch(cells)\n",
    "    cells = pedicel_branch(cells)\n",
    "    return cells"
   ]
  },
  {
   "cell_type": "markdown",
   "metadata": {},
   "source": [
    "## draw panicle"
   ]
  },
  {
   "cell_type": "code",
   "execution_count": 18,
   "metadata": {
    "code_folding": [],
    "format": "column",
    "scrolled": false
   },
   "outputs": [
    {
     "data": {
      "image/png": "[encoded data removed]",
      "text/plain": [
       "<Figure size 576x576 with 1 Axes>"
      ]
     },
     "metadata": {},
     "output_type": "display_data"
    }
   ],
   "source": [
    "# 描写の実行\n",
    "    cells = generate_panicle()\n",
    "\n",
    "fig, ax = plt.subplots(figsize=(8, 8))\n",
    "\n",
    "ax = interpret(ax,cells,np.array([0,0]),np.pi/2,np.pi*(1/3))\n",
    "\n",
    "plt.xlim([-80,80])\n",
    "plt.ylim([0,150])\n",
    "\n",
    "# プロット\n",
    "plt.show()"
   ]
  },
  {
   "cell_type": "markdown",
   "metadata": {},
   "source": [
    "## draw in batch"
   ]
  },
  {
   "cell_type": "code",
   "execution_count": 25,
   "metadata": {},
   "outputs": [
    {
     "name": "stdout",
     "output_type": "stream",
     "text": [
      "123\n"
     ]
    }
   ],
   "source": [
    "vars()[\"a\"] = 123\n",
    "print(a)"
   ]
  },
  {
   "cell_type": "code",
   "execution_count": 27,
   "metadata": {},
   "outputs": [
    {
     "data": {
      "image/png": "[encoded data removed]",
      "text/plain": [
       "<Figure size 576x576 with 9 Axes>"
      ]
     },
     "metadata": {},
     "output_type": "display_data"
    }
   ],
   "source": [
    "fig = plt.figure(figsize=(8, 8))\n",
    "\n",
    "for i in range(9):\n",
    "    cells = generate_panicle()\n",
    "    vars()[\"ax\"] = fig.add_subplot(3,3,i+1)\n",
    "    ax = interpret(ax,cells,np.array([0,0]),np.pi/2,np.pi*(1/3))"
   ]
  },
  {
   "cell_type": "code",
   "execution_count": null,
   "metadata": {},
   "outputs": [],
   "source": []
  }
 ],
 "metadata": {
  "kernelspec": {
   "display_name": "Environment (conda_keras)",
   "language": "python",
   "name": "conda_keras"
  },
  "language_info": {
   "codemirror_mode": {
    "name": "ipython",
    "version": 3
   },
   "file_extension": ".py",
   "mimetype": "text/x-python",
   "name": "python",
   "nbconvert_exporter": "python",
   "pygments_lexer": "ipython3",
   "version": "3.5.5"
  },
  "toc": {
   "base_numbering": 1,
   "nav_menu": {},
   "number_sections": true,
   "sideBar": true,
   "skip_h1_title": false,
   "title_cell": "Table of Contents",
   "title_sidebar": "Contents",
   "toc_cell": false,
   "toc_position": {
    "height": "100px",
    "left": "183.977px",
    "top": "110.284px",
    "width": "165px"
   },
   "toc_section_display": true,
   "toc_window_display": true
  },
  "varInspector": {
   "cols": {
    "lenName": 16,
    "lenType": 16,
    "lenVar": 40
   },
   "kernels_config": {
    "python": {
     "delete_cmd_postfix": "",
     "delete_cmd_prefix": "del ",
     "library": "var_list.py",
     "varRefreshCmd": "print(var_dic_list())"
    },
    "r": {
     "delete_cmd_postfix": ") ",
     "delete_cmd_prefix": "rm(",
     "library": "var_list.r",
     "varRefreshCmd": "cat(var_dic_list()) "
    }
   },
   "position": {
    "height": "492px",
    "left": "1957.27px",
    "right": "20px",
    "top": "120px",
    "width": "356px"
   },
   "types_to_exclude": [
    "module",
    "function",
    "builtin_function_or_method",
    "instance",
    "_Feature"
   ],
   "window_display": true
  }
 },
 "nbformat": 4,
 "nbformat_minor": 2
}
